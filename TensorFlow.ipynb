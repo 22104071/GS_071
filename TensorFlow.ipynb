{
  "nbformat": 4,
  "nbformat_minor": 0,
  "metadata": {
    "colab": {
      "provenance": [],
      "authorship_tag": "ABX9TyPbSv4qP64S0TLzBPvFQVaq",
      "include_colab_link": true
    },
    "kernelspec": {
      "name": "python3",
      "display_name": "Python 3"
    },
    "language_info": {
      "name": "python"
    }
  },
  "cells": [
    {
      "cell_type": "markdown",
      "metadata": {
        "id": "view-in-github",
        "colab_type": "text"
      },
      "source": [
        "<a href=\"https://colab.research.google.com/github/22104071/GS_071/blob/main/TensorFlow.ipynb\" target=\"_parent\"><img src=\"https://colab.research.google.com/assets/colab-badge.svg\" alt=\"Open In Colab\"/></a>"
      ]
    },
    {
      "cell_type": "code",
      "execution_count": 10,
      "metadata": {
        "id": "n8tdC_7MCD8C"
      },
      "outputs": [],
      "source": [
        "import tensorflow as tf"
      ]
    },
    {
      "cell_type": "code",
      "source": [
        "tf.test.is_gpu_available()"
      ],
      "metadata": {
        "colab": {
          "base_uri": "https://localhost:8080/"
        },
        "id": "DUVKxVHXMzYL",
        "outputId": "28828d00-ee3f-4d2d-98eb-0f98384002bd"
      },
      "execution_count": 67,
      "outputs": [
        {
          "output_type": "stream",
          "name": "stderr",
          "text": [
            "WARNING:tensorflow:From <ipython-input-67-17bb7203622b>:1: is_gpu_available (from tensorflow.python.framework.test_util) is deprecated and will be removed in a future version.\n",
            "Instructions for updating:\n",
            "Use `tf.config.list_physical_devices('GPU')` instead.\n"
          ]
        },
        {
          "output_type": "execute_result",
          "data": {
            "text/plain": [
              "False"
            ]
          },
          "metadata": {},
          "execution_count": 67
        }
      ]
    },
    {
      "cell_type": "code",
      "source": [
        "import pandas as pd"
      ],
      "metadata": {
        "id": "Uh7oerEmCrRe"
      },
      "execution_count": 15,
      "outputs": []
    },
    {
      "cell_type": "code",
      "source": [
        "import matplotlib.pyplot as plt"
      ],
      "metadata": {
        "id": "rXnKWpbFGmRV"
      },
      "execution_count": 16,
      "outputs": []
    },
    {
      "cell_type": "code",
      "source": [
        "import numpy as np"
      ],
      "metadata": {
        "id": "1-LuZHJ_GnTo"
      },
      "execution_count": 18,
      "outputs": []
    },
    {
      "cell_type": "code",
      "source": [
        "#Scalar\n",
        "a=tf.constant(6.5)\n",
        "a"
      ],
      "metadata": {
        "colab": {
          "base_uri": "https://localhost:8080/"
        },
        "id": "8h0cMOkrCm_1",
        "outputId": "085fb715-83cb-4c26-d897-997c0925ba84"
      },
      "execution_count": 76,
      "outputs": [
        {
          "output_type": "execute_result",
          "data": {
            "text/plain": [
              "<tf.Tensor: shape=(), dtype=float32, numpy=6.5>"
            ]
          },
          "metadata": {},
          "execution_count": 76
        }
      ]
    },
    {
      "cell_type": "markdown",
      "source": [],
      "metadata": {
        "id": "iLaZc3w9Cmil"
      }
    },
    {
      "cell_type": "code",
      "source": [
        "#String\n",
        "b=tf.constant(\"Gaurav\")\n",
        "b"
      ],
      "metadata": {
        "colab": {
          "base_uri": "https://localhost:8080/"
        },
        "id": "c-DYD8NxHdFV",
        "outputId": "2c07fadd-468d-4566-88d7-978713f60101"
      },
      "execution_count": 22,
      "outputs": [
        {
          "output_type": "execute_result",
          "data": {
            "text/plain": [
              "<tf.Tensor: shape=(), dtype=string, numpy=b'Gaurav'>"
            ]
          },
          "metadata": {},
          "execution_count": 22
        }
      ]
    },
    {
      "cell_type": "code",
      "source": [
        "#boolean tensor\n",
        "c=tf.constant(True)\n",
        "c"
      ],
      "metadata": {
        "colab": {
          "base_uri": "https://localhost:8080/"
        },
        "id": "rcQYL_EeH33g",
        "outputId": "aa11f0cf-d6a6-4019-f85c-58d744d5cfda"
      },
      "execution_count": 75,
      "outputs": [
        {
          "output_type": "execute_result",
          "data": {
            "text/plain": [
              "<tf.Tensor: shape=(), dtype=bool, numpy=True>"
            ]
          },
          "metadata": {},
          "execution_count": 75
        }
      ]
    },
    {
      "cell_type": "code",
      "source": [
        "#Defiining a 1D array\n",
        "d=tf.constant(np.array([1,2,3,4]))\n",
        "d"
      ],
      "metadata": {
        "colab": {
          "base_uri": "https://localhost:8080/"
        },
        "id": "NKaGY-WQIB1Z",
        "outputId": "b72e9cd4-7088-4625-ca6c-74df9d9d89e3"
      },
      "execution_count": 45,
      "outputs": [
        {
          "output_type": "execute_result",
          "data": {
            "text/plain": [
              "<tf.Tensor: shape=(4,), dtype=int64, numpy=array([1, 2, 3, 4])>"
            ]
          },
          "metadata": {},
          "execution_count": 45
        }
      ]
    },
    {
      "cell_type": "code",
      "source": [
        "#Defining a 2D array\n",
        "e=tf.constant([1,2,3,4,5,6],shape=(3,2))\n",
        "e"
      ],
      "metadata": {
        "colab": {
          "base_uri": "https://localhost:8080/"
        },
        "id": "sJ5VMkO4IPKM",
        "outputId": "6c106b0c-5c22-4472-c764-5bc64f640c77"
      },
      "execution_count": 44,
      "outputs": [
        {
          "output_type": "execute_result",
          "data": {
            "text/plain": [
              "<tf.Tensor: shape=(3, 2), dtype=int32, numpy=\n",
              "array([[1, 2],\n",
              "       [3, 4],\n",
              "       [5, 6]], dtype=int32)>"
            ]
          },
          "metadata": {},
          "execution_count": 44
        }
      ]
    },
    {
      "cell_type": "code",
      "source": [
        "#Defining transpose of a tensor using a numpy array\n",
        "f=tf.constant(np.transpose(e), dtype='float32')\n",
        "f"
      ],
      "metadata": {
        "colab": {
          "base_uri": "https://localhost:8080/"
        },
        "id": "0V_JR6aMIjkJ",
        "outputId": "b0373e23-ee3f-4ad9-c8fe-0042bee8e5cb"
      },
      "execution_count": 74,
      "outputs": [
        {
          "output_type": "execute_result",
          "data": {
            "text/plain": [
              "<tf.Tensor: shape=(2, 3), dtype=float32, numpy=\n",
              "array([[1., 3., 5.],\n",
              "       [2., 4., 6.]], dtype=float32)>"
            ]
          },
          "metadata": {},
          "execution_count": 74
        }
      ]
    },
    {
      "cell_type": "code",
      "source": [
        "#Shape of a Tensor\n",
        "e.shape"
      ],
      "metadata": {
        "colab": {
          "base_uri": "https://localhost:8080/"
        },
        "id": "7SgGcJmQKR-b",
        "outputId": "a9bf7453-9377-4023-eaf1-c20c07236a26"
      },
      "execution_count": 107,
      "outputs": [
        {
          "output_type": "execute_result",
          "data": {
            "text/plain": [
              "TensorShape([3, 2])"
            ]
          },
          "metadata": {},
          "execution_count": 107
        }
      ]
    },
    {
      "cell_type": "code",
      "source": [
        "f.shape"
      ],
      "metadata": {
        "colab": {
          "base_uri": "https://localhost:8080/"
        },
        "id": "hM0Exg6wKfMq",
        "outputId": "607ec0c5-ebdf-4133-8326-e48fdb9426f0"
      },
      "execution_count": 56,
      "outputs": [
        {
          "output_type": "execute_result",
          "data": {
            "text/plain": [
              "TensorShape([2, 3])"
            ]
          },
          "metadata": {},
          "execution_count": 56
        }
      ]
    },
    {
      "cell_type": "code",
      "source": [
        "g=tf.constant([[[1,2],[2.0,3],[3,4]],[[3,4],[4,5],[5,6]]])\n",
        "g"
      ],
      "metadata": {
        "colab": {
          "base_uri": "https://localhost:8080/"
        },
        "id": "34CqVdhIKnpU",
        "outputId": "4ecc6d28-2a92-4208-be4d-1db577fd8f1c"
      },
      "execution_count": 68,
      "outputs": [
        {
          "output_type": "execute_result",
          "data": {
            "text/plain": [
              "<tf.Tensor: shape=(2, 3, 2), dtype=float32, numpy=\n",
              "array([[[1., 2.],\n",
              "        [2., 3.],\n",
              "        [3., 4.]],\n",
              "\n",
              "       [[3., 4.],\n",
              "        [4., 5.],\n",
              "        [5., 6.]]], dtype=float32)>"
            ]
          },
          "metadata": {},
          "execution_count": 68
        }
      ]
    },
    {
      "cell_type": "code",
      "source": [
        "g.numpy()[1,2]"
      ],
      "metadata": {
        "colab": {
          "base_uri": "https://localhost:8080/"
        },
        "id": "w_N6O7kLLdCg",
        "outputId": "946575fd-1d31-4d3d-d2dd-eec5a132fabd"
      },
      "execution_count": 69,
      "outputs": [
        {
          "output_type": "execute_result",
          "data": {
            "text/plain": [
              "array([5., 6.], dtype=float32)"
            ]
          },
          "metadata": {},
          "execution_count": 69
        }
      ]
    },
    {
      "cell_type": "markdown",
      "source": [
        "**Summary:**\n",
        "A constant is a type of tensor that can store non-updatable values such as constant scalars, vectors such as list or matrices, and can store array upto n dimensions.\n",
        "Its shape can be modified or can be given such as the product of values of the shape gives the total no. of elements stored in tensor.\n",
        "Multiple data types such as strings, boolean, int32, float32, etc. cannot be stored in same tensor.\n",
        "only float32, & int32 can be stored together."
      ],
      "metadata": {
        "id": "JS-4H0fTNs5a"
      }
    },
    {
      "cell_type": "code",
      "source": [
        "#Scalar as a variable\n",
        "h=tf.Variable(2)\n",
        "h"
      ],
      "metadata": {
        "colab": {
          "base_uri": "https://localhost:8080/"
        },
        "id": "ycSasH8xMA-2",
        "outputId": "085de01b-4560-4740-f6e7-f79ded7a5971"
      },
      "execution_count": 72,
      "outputs": [
        {
          "output_type": "execute_result",
          "data": {
            "text/plain": [
              "<tf.Variable 'Variable:0' shape=() dtype=int32, numpy=2>"
            ]
          },
          "metadata": {},
          "execution_count": 72
        }
      ]
    },
    {
      "cell_type": "code",
      "source": [
        "i=tf.Variable([1,2,3,4])\n",
        "i"
      ],
      "metadata": {
        "colab": {
          "base_uri": "https://localhost:8080/"
        },
        "id": "-kS9XsKHPUTq",
        "outputId": "a98a7509-c827-4cb0-da95-1af7428aa9ae"
      },
      "execution_count": 77,
      "outputs": [
        {
          "output_type": "execute_result",
          "data": {
            "text/plain": [
              "<tf.Variable 'Variable:0' shape=(4,) dtype=int32, numpy=array([1, 2, 3, 4], dtype=int32)>"
            ]
          },
          "metadata": {},
          "execution_count": 77
        }
      ]
    },
    {
      "cell_type": "code",
      "source": [
        "i.name"
      ],
      "metadata": {
        "colab": {
          "base_uri": "https://localhost:8080/",
          "height": 36
        },
        "id": "L3KTSzPSQdTC",
        "outputId": "2edad5a6-e933-4e76-c834-0e06535185de"
      },
      "execution_count": 78,
      "outputs": [
        {
          "output_type": "execute_result",
          "data": {
            "text/plain": [
              "'Variable:0'"
            ],
            "application/vnd.google.colaboratory.intrinsic+json": {
              "type": "string"
            }
          },
          "metadata": {},
          "execution_count": 78
        }
      ]
    },
    {
      "cell_type": "code",
      "source": [
        "i.shape"
      ],
      "metadata": {
        "colab": {
          "base_uri": "https://localhost:8080/"
        },
        "id": "et8zKDOqQlOg",
        "outputId": "b9e55db2-1383-413f-a4d6-c306b49e6b0b"
      },
      "execution_count": 79,
      "outputs": [
        {
          "output_type": "execute_result",
          "data": {
            "text/plain": [
              "TensorShape([4])"
            ]
          },
          "metadata": {},
          "execution_count": 79
        }
      ]
    },
    {
      "cell_type": "code",
      "source": [
        "i.dtype"
      ],
      "metadata": {
        "colab": {
          "base_uri": "https://localhost:8080/"
        },
        "id": "2z3vxhaSQoqv",
        "outputId": "c8c044d0-e2a3-455c-c165-27502e099461"
      },
      "execution_count": 80,
      "outputs": [
        {
          "output_type": "execute_result",
          "data": {
            "text/plain": [
              "tf.int32"
            ]
          },
          "metadata": {},
          "execution_count": 80
        }
      ]
    },
    {
      "cell_type": "code",
      "source": [
        "i.numpy()[3]"
      ],
      "metadata": {
        "colab": {
          "base_uri": "https://localhost:8080/"
        },
        "id": "FgMCT0O2QqTq",
        "outputId": "11e6ea4f-5a1b-4802-94c7-85d28032c97b"
      },
      "execution_count": 81,
      "outputs": [
        {
          "output_type": "execute_result",
          "data": {
            "text/plain": [
              "4"
            ]
          },
          "metadata": {},
          "execution_count": 81
        }
      ]
    },
    {
      "cell_type": "code",
      "source": [
        "i.numpy()[2]"
      ],
      "metadata": {
        "colab": {
          "base_uri": "https://localhost:8080/"
        },
        "id": "BjM-hkoFQxk_",
        "outputId": "ac3b849f-b319-4e29-a295-11d21f9f9d91"
      },
      "execution_count": 85,
      "outputs": [
        {
          "output_type": "execute_result",
          "data": {
            "text/plain": [
              "3"
            ]
          },
          "metadata": {},
          "execution_count": 85
        }
      ]
    },
    {
      "cell_type": "code",
      "source": [
        "j=tf.Variable(2+3j)\n",
        "j"
      ],
      "metadata": {
        "colab": {
          "base_uri": "https://localhost:8080/"
        },
        "id": "FkdpzydFQ0Em",
        "outputId": "bf74c3a3-da4e-47f3-f5a2-97b6038a202a"
      },
      "execution_count": 87,
      "outputs": [
        {
          "output_type": "execute_result",
          "data": {
            "text/plain": [
              "<tf.Variable 'Variable:0' shape=() dtype=complex128, numpy=(2+3j)>"
            ]
          },
          "metadata": {},
          "execution_count": 87
        }
      ]
    },
    {
      "cell_type": "code",
      "source": [
        "tf.Variable(d)"
      ],
      "metadata": {
        "colab": {
          "base_uri": "https://localhost:8080/"
        },
        "id": "cb-mjyTTRJ5h",
        "outputId": "3de2a0c3-e311-4eb9-8ac1-3691df48d9bb"
      },
      "execution_count": 88,
      "outputs": [
        {
          "output_type": "execute_result",
          "data": {
            "text/plain": [
              "<tf.Variable 'Variable:0' shape=(4,) dtype=int64, numpy=array([1, 2, 3, 4])>"
            ]
          },
          "metadata": {},
          "execution_count": 88
        }
      ]
    },
    {
      "cell_type": "code",
      "source": [
        "d"
      ],
      "metadata": {
        "colab": {
          "base_uri": "https://localhost:8080/"
        },
        "id": "LSgmO4fyRa7q",
        "outputId": "8d402c25-bdda-4e66-da26-35db32d7c7b3"
      },
      "execution_count": 89,
      "outputs": [
        {
          "output_type": "execute_result",
          "data": {
            "text/plain": [
              "<tf.Tensor: shape=(4,), dtype=int64, numpy=array([1, 2, 3, 4])>"
            ]
          },
          "metadata": {},
          "execution_count": 89
        }
      ]
    },
    {
      "cell_type": "code",
      "source": [
        "k=tf.Variable([[2,3.0],[3,6],[2,5]], shape=(3,2))\n",
        "k"
      ],
      "metadata": {
        "colab": {
          "base_uri": "https://localhost:8080/"
        },
        "id": "9L1W-nGfRc2E",
        "outputId": "5f87e5b7-c596-4782-9b7e-a693ccf8842e"
      },
      "execution_count": 96,
      "outputs": [
        {
          "output_type": "execute_result",
          "data": {
            "text/plain": [
              "<tf.Variable 'Variable:0' shape=(3, 2) dtype=float32, numpy=\n",
              "array([[2., 3.],\n",
              "       [3., 6.],\n",
              "       [2., 5.]], dtype=float32)>"
            ]
          },
          "metadata": {},
          "execution_count": 96
        }
      ]
    },
    {
      "cell_type": "code",
      "source": [
        "tf.reshape(k,(6,1))"
      ],
      "metadata": {
        "colab": {
          "base_uri": "https://localhost:8080/"
        },
        "id": "y_2UBg82RpZs",
        "outputId": "80cd54db-cd11-4bab-b825-6d4494069cc0"
      },
      "execution_count": 99,
      "outputs": [
        {
          "output_type": "execute_result",
          "data": {
            "text/plain": [
              "<tf.Tensor: shape=(6, 1), dtype=float32, numpy=\n",
              "array([[2.],\n",
              "       [3.],\n",
              "       [3.],\n",
              "       [6.],\n",
              "       [2.],\n",
              "       [5.]], dtype=float32)>"
            ]
          },
          "metadata": {},
          "execution_count": 99
        }
      ]
    },
    {
      "cell_type": "code",
      "source": [
        "np.max(k)"
      ],
      "metadata": {
        "colab": {
          "base_uri": "https://localhost:8080/"
        },
        "id": "vgqE2mgjSXG8",
        "outputId": "c9cf93eb-ac53-4026-a4cc-e0cba8685e57"
      },
      "execution_count": 101,
      "outputs": [
        {
          "output_type": "execute_result",
          "data": {
            "text/plain": [
              "6.0"
            ]
          },
          "metadata": {},
          "execution_count": 101
        }
      ]
    },
    {
      "cell_type": "code",
      "source": [
        "l=tf.convert_to_tensor(k)\n",
        "l"
      ],
      "metadata": {
        "colab": {
          "base_uri": "https://localhost:8080/"
        },
        "id": "lEgkQc0zSiPN",
        "outputId": "bff383c0-0adc-49b0-b888-3555f1691bd8"
      },
      "execution_count": 104,
      "outputs": [
        {
          "output_type": "execute_result",
          "data": {
            "text/plain": [
              "<tf.Tensor: shape=(3, 2), dtype=float32, numpy=\n",
              "array([[2., 3.],\n",
              "       [3., 6.],\n",
              "       [2., 5.]], dtype=float32)>"
            ]
          },
          "metadata": {},
          "execution_count": 104
        }
      ]
    },
    {
      "cell_type": "code",
      "source": [
        "#Replacing data in tensor variable\n",
        "i.assign([name==1,4,6,7])"
      ],
      "metadata": {
        "colab": {
          "base_uri": "https://localhost:8080/"
        },
        "id": "GJePcHV5SzfW",
        "outputId": "4870fc29-d151-430c-f99d-35fc421804a9"
      },
      "execution_count": 119,
      "outputs": [
        {
          "output_type": "execute_result",
          "data": {
            "text/plain": [
              "<tf.Variable 'UnreadVariable' shape=(4,) dtype=int32, numpy=array([1, 4, 6, 7], dtype=int32)>"
            ]
          },
          "metadata": {},
          "execution_count": 119
        }
      ]
    },
    {
      "cell_type": "code",
      "source": [
        "#Adding a value for another memory\n",
        "i.assign_add([6,8,9,0])"
      ],
      "metadata": {
        "colab": {
          "base_uri": "https://localhost:8080/"
        },
        "id": "Xj5oG7O-S9J7",
        "outputId": "cb04e56b-f53b-4588-f58a-9df269644a19"
      },
      "execution_count": 122,
      "outputs": [
        {
          "output_type": "execute_result",
          "data": {
            "text/plain": [
              "<tf.Variable 'UnreadVariable' shape=(4,) dtype=int32, numpy=array([ 7, 12, 15,  7], dtype=int32)>"
            ]
          },
          "metadata": {},
          "execution_count": 122
        }
      ]
    },
    {
      "cell_type": "code",
      "source": [
        "i**i"
      ],
      "metadata": {
        "colab": {
          "base_uri": "https://localhost:8080/"
        },
        "id": "QMQnGW2_Ug71",
        "outputId": "c578d8ee-a5c1-49b9-fea7-4d996e688510"
      },
      "execution_count": 127,
      "outputs": [
        {
          "output_type": "execute_result",
          "data": {
            "text/plain": [
              "<tf.Tensor: shape=(4,), dtype=int32, numpy=array([    823543, -251658240, 1500973039,     823543], dtype=int32)>"
            ]
          },
          "metadata": {},
          "execution_count": 127
        }
      ]
    },
    {
      "cell_type": "markdown",
      "source": [
        "**Summary:**\n",
        "A variable is a type of tensor That can store values such as array matrices vector list etc. Which further can be assigned to a new value of the same shape and it must have the number of elements defined to the previous element want to replaced.\n",
        "To assign a variable from a tensor, it has been given in above lines of code.\n",
        "\n",
        "\n"
      ],
      "metadata": {
        "id": "OQYF5OLqWTL1"
      }
    },
    {
      "cell_type": "code",
      "source": [
        "#Placeholder\n",
        "#Session\n",
        "import tensorflow as tf\n",
        "import numpy as np\n",
        "tf.compat.v1.disable_eager_execution()"
      ],
      "metadata": {
        "id": "YG-voAiTVP7z"
      },
      "execution_count": 10,
      "outputs": []
    },
    {
      "cell_type": "code",
      "source": [
        "m=tf.compat.v1.placeholder(dtype=\"float32\",shape=(200,200))\n",
        "m"
      ],
      "metadata": {
        "colab": {
          "base_uri": "https://localhost:8080/"
        },
        "id": "1LoaN1cuXCC3",
        "outputId": "be322694-e892-42f6-ae43-49953bfd0af0"
      },
      "execution_count": 11,
      "outputs": [
        {
          "output_type": "execute_result",
          "data": {
            "text/plain": [
              "<tf.Tensor 'Placeholder_2:0' shape=(200, 200) dtype=float32>"
            ]
          },
          "metadata": {},
          "execution_count": 11
        }
      ]
    },
    {
      "cell_type": "code",
      "source": [
        "n=tf.compat.v1.placeholder(dtype=\"float32\",shape=(200,200))\n",
        "n"
      ],
      "metadata": {
        "colab": {
          "base_uri": "https://localhost:8080/"
        },
        "id": "Q6EJolu7a9Cb",
        "outputId": "7b3db5af-a9bf-4d05-8223-1277c6af2a6a"
      },
      "execution_count": 12,
      "outputs": [
        {
          "output_type": "execute_result",
          "data": {
            "text/plain": [
              "<tf.Tensor 'Placeholder_3:0' shape=(200, 200) dtype=float32>"
            ]
          },
          "metadata": {},
          "execution_count": 12
        }
      ]
    },
    {
      "cell_type": "code",
      "source": [
        "c=tf.add(m,n)\n",
        "c"
      ],
      "metadata": {
        "colab": {
          "base_uri": "https://localhost:8080/"
        },
        "id": "fjNh54AFbpTO",
        "outputId": "9a360ebd-cfa6-492e-9f3d-ade05dcdb201"
      },
      "execution_count": 13,
      "outputs": [
        {
          "output_type": "execute_result",
          "data": {
            "text/plain": [
              "<tf.Tensor 'Add_1:0' shape=(200, 200) dtype=float32>"
            ]
          },
          "metadata": {},
          "execution_count": 13
        }
      ]
    },
    {
      "cell_type": "code",
      "source": [
        "ones_array=np.ones((200,200), np.float32)\n",
        "ones_array"
      ],
      "metadata": {
        "colab": {
          "base_uri": "https://localhost:8080/"
        },
        "id": "FhPRnlnPbvyH",
        "outputId": "79e9b3e0-54a6-4834-fb74-9759eb497d77"
      },
      "execution_count": 19,
      "outputs": [
        {
          "output_type": "execute_result",
          "data": {
            "text/plain": [
              "array([[1., 1., 1., ..., 1., 1., 1.],\n",
              "       [1., 1., 1., ..., 1., 1., 1.],\n",
              "       [1., 1., 1., ..., 1., 1., 1.],\n",
              "       ...,\n",
              "       [1., 1., 1., ..., 1., 1., 1.],\n",
              "       [1., 1., 1., ..., 1., 1., 1.],\n",
              "       [1., 1., 1., ..., 1., 1., 1.]], dtype=float32)"
            ]
          },
          "metadata": {},
          "execution_count": 19
        }
      ]
    },
    {
      "cell_type": "code",
      "source": [],
      "metadata": {
        "id": "Y_DHGo8CcElX"
      },
      "execution_count": 19,
      "outputs": []
    },
    {
      "cell_type": "code",
      "source": [
        "with tf.compat.v1.Session() as sess:\n",
        "  d=sess.run(c, feed_dict={m:ones_array,n:ones_array})\n"
      ],
      "metadata": {
        "id": "nfbd-tgJcob3"
      },
      "execution_count": 20,
      "outputs": []
    },
    {
      "cell_type": "code",
      "source": [
        "d"
      ],
      "metadata": {
        "colab": {
          "base_uri": "https://localhost:8080/"
        },
        "id": "-yRomKCgzkOd",
        "outputId": "b511e398-28cf-4418-9c82-3cc8c782f56d"
      },
      "execution_count": 21,
      "outputs": [
        {
          "output_type": "execute_result",
          "data": {
            "text/plain": [
              "array([[2., 2., 2., ..., 2., 2., 2.],\n",
              "       [2., 2., 2., ..., 2., 2., 2.],\n",
              "       [2., 2., 2., ..., 2., 2., 2.],\n",
              "       ...,\n",
              "       [2., 2., 2., ..., 2., 2., 2.],\n",
              "       [2., 2., 2., ..., 2., 2., 2.],\n",
              "       [2., 2., 2., ..., 2., 2., 2.]], dtype=float32)"
            ]
          },
          "metadata": {},
          "execution_count": 21
        }
      ]
    },
    {
      "cell_type": "code",
      "source": [
        "type(d)"
      ],
      "metadata": {
        "colab": {
          "base_uri": "https://localhost:8080/"
        },
        "id": "ceNSczIu1BZj",
        "outputId": "0d2e52dd-c68d-4f85-f502-6d7d8577a09b"
      },
      "execution_count": 22,
      "outputs": [
        {
          "output_type": "execute_result",
          "data": {
            "text/plain": [
              "numpy.ndarray"
            ]
          },
          "metadata": {},
          "execution_count": 22
        }
      ]
    },
    {
      "cell_type": "markdown",
      "source": [
        "Summary:\n",
        "A placeholder is a type of tensor that can store data for furthur use.\n",
        "Assumingly, it just makes a container that can store values when the tensor is called.\n",
        "it is actually stored in tf version 1, so it is imported through a code, that is derived through the disabling of Eager execution.\n",
        "it is use to create structure of graphs, in whuch data can be assigned in the future.\n"
      ],
      "metadata": {
        "id": "yTfyxejo1rgX"
      }
    },
    {
      "cell_type": "code",
      "source": [
        "#Sparse Tensor\n",
        "import tensorflow as tf"
      ],
      "metadata": {
        "id": "0I2IJLZa1I-5"
      },
      "execution_count": 28,
      "outputs": []
    },
    {
      "cell_type": "code",
      "source": [
        "o=tf.SparseTensor(indices=[[1,2], [0,1]],values=[10,20],dense_shape=[5,10])\n",
        "o\n",
        "print(o)"
      ],
      "metadata": {
        "colab": {
          "base_uri": "https://localhost:8080/"
        },
        "id": "ps83KlYP2hm4",
        "outputId": "1aa472f6-5603-4884-981a-0ba264436173"
      },
      "execution_count": 29,
      "outputs": [
        {
          "output_type": "stream",
          "name": "stdout",
          "text": [
            "SparseTensor(indices=tf.Tensor(\n",
            "[[1 2]\n",
            " [0 1]], shape=(2, 2), dtype=int64), values=tf.Tensor([10 20], shape=(2,), dtype=int32), dense_shape=tf.Tensor([ 5 10], shape=(2,), dtype=int64))\n"
          ]
        }
      ]
    },
    {
      "cell_type": "code",
      "source": [
        "import numpy as np"
      ],
      "metadata": {
        "id": "c6r0qrGz2rAi"
      },
      "execution_count": 30,
      "outputs": []
    },
    {
      "cell_type": "code",
      "source": [
        "np_array = np.array([[1,0,0,0],\n",
        "                   [0,0,0,1],\n",
        "                    [1,0,0,1]])\n",
        "np_array"
      ],
      "metadata": {
        "colab": {
          "base_uri": "https://localhost:8080/"
        },
        "id": "BykdOczW5Nld",
        "outputId": "0736bc3b-e23d-4429-fac8-558907f5520c"
      },
      "execution_count": 31,
      "outputs": [
        {
          "output_type": "execute_result",
          "data": {
            "text/plain": [
              "array([[1, 0, 0, 0],\n",
              "       [0, 0, 0, 1],\n",
              "       [1, 0, 0, 1]])"
            ]
          },
          "metadata": {},
          "execution_count": 31
        }
      ]
    },
    {
      "cell_type": "code",
      "source": [
        "p=tf.sparse.from_dense(np_array)\n",
        "q = np.array(p)"
      ],
      "metadata": {
        "id": "RhTWtiXX5iFx"
      },
      "execution_count": 32,
      "outputs": []
    },
    {
      "cell_type": "code",
      "source": [
        "print(p)"
      ],
      "metadata": {
        "colab": {
          "base_uri": "https://localhost:8080/"
        },
        "id": "qA49EAUW57bS",
        "outputId": "07bde29a-c55b-400d-fc25-3c00bcc7c4ea"
      },
      "execution_count": 33,
      "outputs": [
        {
          "output_type": "stream",
          "name": "stdout",
          "text": [
            "SparseTensor(indices=tf.Tensor(\n",
            "[[0 0]\n",
            " [1 3]\n",
            " [2 0]\n",
            " [2 3]], shape=(4, 2), dtype=int64), values=tf.Tensor([1 1 1 1], shape=(4,), dtype=int64), dense_shape=tf.Tensor([3 4], shape=(2,), dtype=int64))\n"
          ]
        }
      ]
    },
    {
      "cell_type": "code",
      "source": [
        "\n",
        "\n",
        "q"
      ],
      "metadata": {
        "colab": {
          "base_uri": "https://localhost:8080/"
        },
        "id": "QsLatQOG6Vga",
        "outputId": "35904a97-02e4-4194-82a9-cbac07b91ced"
      },
      "execution_count": 34,
      "outputs": [
        {
          "output_type": "execute_result",
          "data": {
            "text/plain": [
              "array(SparseTensor(indices=tf.Tensor(\n",
              "[[0 0]\n",
              " [1 3]\n",
              " [2 0]\n",
              " [2 3]], shape=(4, 2), dtype=int64), values=tf.Tensor([1 1 1 1], shape=(4,), dtype=int64), dense_shape=tf.Tensor([3 4], shape=(2,), dtype=int64)),\n",
              "      dtype=object)"
            ]
          },
          "metadata": {},
          "execution_count": 34
        }
      ]
    },
    {
      "cell_type": "code",
      "source": [
        "b=q.flatten().tolist()\n",
        "b"
      ],
      "metadata": {
        "colab": {
          "base_uri": "https://localhost:8080/"
        },
        "id": "Z_V4_QGT6qeC",
        "outputId": "73a0a085-0f59-4e3d-9dba-843ba614718c"
      },
      "execution_count": 47,
      "outputs": [
        {
          "output_type": "execute_result",
          "data": {
            "text/plain": [
              "[SparseTensor(indices=tf.Tensor(\n",
              " [[0 0]\n",
              "  [1 3]\n",
              "  [2 0]\n",
              "  [2 3]], shape=(4, 2), dtype=int64), values=tf.Tensor([1 1 1 1], shape=(4,), dtype=int64), dense_shape=tf.Tensor([3 4], shape=(2,), dtype=int64))]"
            ]
          },
          "metadata": {},
          "execution_count": 47
        }
      ]
    },
    {
      "cell_type": "code",
      "source": [],
      "metadata": {
        "id": "6yFCAtJz8cgV"
      },
      "execution_count": 47,
      "outputs": []
    }
  ]
}